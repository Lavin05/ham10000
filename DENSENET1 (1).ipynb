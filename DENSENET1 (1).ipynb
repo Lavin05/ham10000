{
  "nbformat": 4,
  "nbformat_minor": 0,
  "metadata": {
    "colab": {
      "provenance": [],
      "gpuType": "T4"
    },
    "kernelspec": {
      "name": "python3",
      "display_name": "Python 3"
    },
    "language_info": {
      "name": "python"
    },
    "accelerator": "GPU"
  },
  "cells": [
    {
      "cell_type": "code",
      "execution_count": null,
      "metadata": {
        "colab": {
          "base_uri": "https://localhost:8080/"
        },
        "id": "yDt10Mvg3ZHz",
        "outputId": "3473f752-cf98-4ae1-bd05-1346866b351e"
      },
      "outputs": [
        {
          "output_type": "stream",
          "name": "stdout",
          "text": [
            "Mounted at /content/drive\n"
          ]
        }
      ],
      "source": [
        "from google.colab import drive\n",
        "drive.mount('/content/drive')\n"
      ]
    },
    {
      "cell_type": "code",
      "source": [
        "\n",
        "# Path to the zip file in your Google Drive\n",
        "zip_file_path = '/content/drive/My Drive/base_dir.zip'\n",
        "\n",
        "# Destination directory to extract the zip file contents\n",
        "extract_dir = '/content/extracted_data'\n",
        "\n",
        "# Import necessary libraries\n",
        "import zipfile\n",
        "import os\n",
        "\n",
        "# Create the destination directory if it doesn't exist\n",
        "os.makedirs(extract_dir, exist_ok=True)\n",
        "\n",
        "# Extract the zip file\n",
        "with zipfile.ZipFile(zip_file_path, 'r') as zip_ref:\n",
        "    zip_ref.extractall(extract_dir)\n",
        "\n",
        "# Check the extracted files\n",
        "extracted_files = os.listdir(extract_dir)\n",
        "print(\"Extracted files:\", extracted_files)"
      ],
      "metadata": {
        "colab": {
          "base_uri": "https://localhost:8080/"
        },
        "id": "5WLQqYfn33U9",
        "outputId": "83b069f5-df0e-45d2-b2be-dca1eb1bea48"
      },
      "execution_count": null,
      "outputs": [
        {
          "output_type": "stream",
          "name": "stdout",
          "text": [
            "Extracted files: ['base_dir']\n"
          ]
        }
      ]
    },
    {
      "cell_type": "code",
      "source": [
        "\n",
        "# Save the extracted files to Google Drive\n",
        "save_dir = '/content/drive/My Drive/extracted_data'\n",
        "os.makedirs(save_dir, exist_ok=True)\n",
        "for file in extracted_files:\n",
        "    source_file_path = os.path.join(extract_dir, file)\n",
        "    destination_file_path = os.path.join(save_dir, file)\n",
        "    if os.path.isdir(source_file_path):  # Check if it's a directory\n",
        "        shutil.copytree(source_file_path, destination_file_path)  # Use shutil.copytree to copy directories\n",
        "    else:\n",
        "        shutil.copy(source_file_path, destination_file_path)  # Use shutil.copy to copy files\n",
        "    print(f\"Copied '{file}' to Google Drive at '{destination_file_path}'\")"
      ],
      "metadata": {
        "colab": {
          "base_uri": "https://localhost:8080/"
        },
        "id": "nsAcqfCz4uIz",
        "outputId": "f1d19a77-58e4-4b17-8fa7-7b2aa777abb5"
      },
      "execution_count": null,
      "outputs": [
        {
          "output_type": "stream",
          "name": "stdout",
          "text": [
            "Copied 'base_dir' to Google Drive at '/content/drive/My Drive/extracted_data/base_dir'\n"
          ]
        }
      ]
    },
    {
      "cell_type": "code",
      "source": [
        "from keras.layers import Input, Lambda, Dense, Flatten\n",
        "from keras.models import Model\n",
        "from keras.applications.densenet import DenseNet121\n",
        "from keras.applications.densenet import preprocess_input\n",
        "from keras.preprocessing import image\n",
        "from keras.models import Sequential\n",
        "import numpy as np\n",
        "from glob import glob\n",
        "import matplotlib.pyplot as plt\n",
        "from keras.models import Model\n",
        "from tensorflow.keras.optimizers import Adam\n",
        "from tensorflow.keras.callbacks import EarlyStopping, ReduceLROnPlateau\n"
      ],
      "metadata": {
        "id": "CkmLYAxm5Ijq"
      },
      "execution_count": null,
      "outputs": []
    },
    {
      "cell_type": "code",
      "source": [
        "IMAGE_SIZE = [170, 170]"
      ],
      "metadata": {
        "id": "Xfdt9OXL6Q8g"
      },
      "execution_count": null,
      "outputs": []
    },
    {
      "cell_type": "code",
      "source": [
        "!pip install --upgrade tensorflow\n"
      ],
      "metadata": {
        "id": "7fmTUAZU9cY8"
      },
      "execution_count": null,
      "outputs": []
    },
    {
      "cell_type": "code",
      "source": [
        "!pip install --upgrade keras\n"
      ],
      "metadata": {
        "id": "xLVBijVY9e4i"
      },
      "execution_count": null,
      "outputs": []
    },
    {
      "cell_type": "code",
      "source": [
        "train_path = '/content/extracted_data/base_dir/train_dir'\n",
        "valid_path = '/content/extracted_data/base_dir/val_dir'"
      ],
      "metadata": {
        "id": "b-gIpm9W6TB2"
      },
      "execution_count": null,
      "outputs": []
    },
    {
      "cell_type": "code",
      "source": [
        "DenseNet121 = DenseNet121(input_shape=list(IMAGE_SIZE) + [3], weights='imagenet', include_top=False)\n"
      ],
      "metadata": {
        "id": "LWtii1qs6ZHi"
      },
      "execution_count": null,
      "outputs": []
    },
    {
      "cell_type": "code",
      "source": [
        "\n",
        "# Parameters\n",
        "fine_tune_layers = 20  # Number of layers to unfreeze for fine-tuning\n",
        "learning_rate = 0.001\n",
        "dropout_rate = 0.5\n",
        "l2_regularizer = 0.001\n",
        "batch_size = 32\n",
        "epochs = 20\n",
        "\n"
      ],
      "metadata": {
        "id": "wVmwNlIN6aiN"
      },
      "execution_count": null,
      "outputs": []
    },
    {
      "cell_type": "code",
      "source": [
        "from tensorflow.keras import regularizers  # Add this import statement\n",
        "\n",
        "# Fine-tune layers\n",
        "for layer in DenseNet121.layers[-fine_tune_layers:]:\n",
        "    layer.trainable = True\n",
        "\n",
        "# Learning rate scheduler\n",
        "lr_scheduler = ReduceLROnPlateau(monitor='val_loss', factor=0.2, patience=5, min_lr=0.0001)\n",
        "\n",
        "# Regularization\n",
        "regularizer = regularizers.l2(l2_regularizer)\n"
      ],
      "metadata": {
        "id": "PskifgXW6b1P"
      },
      "execution_count": null,
      "outputs": []
    },
    {
      "cell_type": "code",
      "source": [
        "import os\n",
        "from glob import glob\n",
        "\n",
        "folders = glob('/content/extracted_data/base_dir/train_dir/*')\n",
        "class_names = []\n",
        "\n",
        "# Extract bird names from folder paths\n",
        "for folder in folders:\n",
        "    class_name = os.path.basename(folder)\n",
        "    class_names.append(class_name)\n",
        "\n",
        "print(class_names)\n"
      ],
      "metadata": {
        "colab": {
          "base_uri": "https://localhost:8080/"
        },
        "id": "ctp2Hzz_6db-",
        "outputId": "853b0779-8bec-4b73-d144-420c15209cfa"
      },
      "execution_count": null,
      "outputs": [
        {
          "output_type": "stream",
          "name": "stdout",
          "text": [
            "['bcc', 'df', 'bkl', 'vasc', 'nv', 'mel', 'akiec']\n"
          ]
        }
      ]
    },
    {
      "cell_type": "code",
      "source": [
        "x = Flatten()(DenseNet121.output)\n",
        "# x = Dense(1000, activation='relu')(x)\n",
        "prediction = Dense(len(folders), activation='softmax')(x)"
      ],
      "metadata": {
        "id": "HSEhXvB-6e0p"
      },
      "execution_count": null,
      "outputs": []
    },
    {
      "cell_type": "code",
      "source": [
        "model = Model(inputs=DenseNet121.input, outputs=prediction)"
      ],
      "metadata": {
        "id": "LdFha5596gJm"
      },
      "execution_count": null,
      "outputs": []
    },
    {
      "cell_type": "code",
      "source": [
        "# Compile model\n",
        "model.compile(\n",
        "    loss='categorical_crossentropy',\n",
        "    optimizer=Adam(learning_rate),\n",
        "    metrics=['accuracy']\n",
        ")"
      ],
      "metadata": {
        "id": "f6i-IDS36i1Q"
      },
      "execution_count": null,
      "outputs": []
    },
    {
      "cell_type": "code",
      "source": [
        "from tensorflow.keras.preprocessing.image import ImageDataGenerator\n",
        "# Data Augmentation\n",
        "train_datagen = ImageDataGenerator(\n",
        "    rescale=1./255,\n",
        "    shear_range=0.2,\n",
        "    zoom_range=0.2,\n",
        "    horizontal_flip=True\n",
        ")\n",
        "\n",
        "test_datagen = ImageDataGenerator(rescale=1./255)\n",
        "\n",
        "# Generate batches of augmented data for training\n",
        "training_set = train_datagen.flow_from_directory(\n",
        "    train_path,\n",
        "    target_size=(170, 170),\n",
        "    batch_size=batch_size,\n",
        "    class_mode='categorical',\n",
        "    classes=class_names\n",
        ")\n",
        "\n",
        "# Generate batches of data for validation\n",
        "test_set = test_datagen.flow_from_directory(\n",
        "    valid_path,\n",
        "    target_size=(170, 170),\n",
        "    batch_size=batch_size,\n",
        "    class_mode='categorical',\n",
        "    classes=class_names\n",
        ")\n"
      ],
      "metadata": {
        "colab": {
          "base_uri": "https://localhost:8080/"
        },
        "id": "7PQTuFsQ6hRq",
        "outputId": "ccd654ec-8651-4054-b967-48f6771895d5"
      },
      "execution_count": null,
      "outputs": [
        {
          "output_type": "stream",
          "name": "stdout",
          "text": [
            "Found 8400 images belonging to 7 classes.\n",
            "Found 938 images belonging to 7 classes.\n"
          ]
        }
      ]
    },
    {
      "cell_type": "code",
      "source": [
        "# Model training\n",
        "history = model.fit(\n",
        "    training_set,\n",
        "    validation_data=test_set,\n",
        "    epochs=epochs,\n",
        "    callbacks=[lr_scheduler],\n",
        "    )"
      ],
      "metadata": {
        "colab": {
          "base_uri": "https://localhost:8080/"
        },
        "id": "8fqnb4O96kwu",
        "outputId": "82d93312-f6e8-4a6e-e056-a55123bca645"
      },
      "execution_count": null,
      "outputs": [
        {
          "output_type": "stream",
          "name": "stdout",
          "text": [
            "Epoch 1/20\n"
          ]
        },
        {
          "output_type": "stream",
          "name": "stderr",
          "text": [
            "/usr/local/lib/python3.10/dist-packages/keras/src/trainers/data_adapters/py_dataset_adapter.py:121: UserWarning: Your `PyDataset` class should call `super().__init__(**kwargs)` in its constructor. `**kwargs` can include `workers`, `use_multiprocessing`, `max_queue_size`. Do not pass these arguments to `fit()`, as they will be ignored.\n",
            "  self._warn_if_super_not_called()\n"
          ]
        },
        {
          "output_type": "stream",
          "name": "stdout",
          "text": [
            "\u001b[1m168/168\u001b[0m \u001b[32m━━━━━━━━━━━━━━━━━━━━\u001b[0m\u001b[37m\u001b[0m \u001b[1m285s\u001b[0m 733ms/step - accuracy: 0.3957 - loss: 2.7978 - val_accuracy: 0.0117 - val_loss: 93099.7734 - learning_rate: 0.0010\n",
            "Epoch 2/20\n",
            "\u001b[1m168/168\u001b[0m \u001b[32m━━━━━━━━━━━━━━━━━━━━\u001b[0m\u001b[37m\u001b[0m \u001b[1m140s\u001b[0m 572ms/step - accuracy: 0.4326 - loss: 3.0734 - val_accuracy: 0.7495 - val_loss: 0.8872 - learning_rate: 0.0010\n",
            "Epoch 3/20\n",
            "\u001b[1m168/168\u001b[0m \u001b[32m━━━━━━━━━━━━━━━━━━━━\u001b[0m\u001b[37m\u001b[0m \u001b[1m98s\u001b[0m 567ms/step - accuracy: 0.4141 - loss: 4.0763 - val_accuracy: 0.4893 - val_loss: 2.1751 - learning_rate: 0.0010\n",
            "Epoch 4/20\n",
            "\u001b[1m168/168\u001b[0m \u001b[32m━━━━━━━━━━━━━━━━━━━━\u001b[0m\u001b[37m\u001b[0m \u001b[1m98s\u001b[0m 568ms/step - accuracy: 0.4650 - loss: 2.8902 - val_accuracy: 0.1471 - val_loss: 3.5259 - learning_rate: 0.0010\n",
            "Epoch 5/20\n",
            "\u001b[1m168/168\u001b[0m \u001b[32m━━━━━━━━━━━━━━━━━━━━\u001b[0m\u001b[37m\u001b[0m \u001b[1m142s\u001b[0m 571ms/step - accuracy: 0.5092 - loss: 1.6632 - val_accuracy: 0.1439 - val_loss: 10.2204 - learning_rate: 0.0010\n",
            "Epoch 6/20\n",
            "\u001b[1m168/168\u001b[0m \u001b[32m━━━━━━━━━━━━━━━━━━━━\u001b[0m\u001b[37m\u001b[0m \u001b[1m159s\u001b[0m 669ms/step - accuracy: 0.5046 - loss: 1.7366 - val_accuracy: 0.1514 - val_loss: 3.3466 - learning_rate: 0.0010\n",
            "Epoch 7/20\n",
            "\u001b[1m168/168\u001b[0m \u001b[32m━━━━━━━━━━━━━━━━━━━━\u001b[0m\u001b[37m\u001b[0m \u001b[1m102s\u001b[0m 581ms/step - accuracy: 0.5475 - loss: 1.6435 - val_accuracy: 0.7260 - val_loss: 0.8732 - learning_rate: 0.0010\n",
            "Epoch 8/20\n",
            "\u001b[1m168/168\u001b[0m \u001b[32m━━━━━━━━━━━━━━━━━━━━\u001b[0m\u001b[37m\u001b[0m \u001b[1m101s\u001b[0m 585ms/step - accuracy: 0.5741 - loss: 1.3779 - val_accuracy: 0.6247 - val_loss: 11.9123 - learning_rate: 0.0010\n",
            "Epoch 9/20\n",
            "\u001b[1m168/168\u001b[0m \u001b[32m━━━━━━━━━━━━━━━━━━━━\u001b[0m\u001b[37m\u001b[0m \u001b[1m117s\u001b[0m 680ms/step - accuracy: 0.5967 - loss: 1.1903 - val_accuracy: 0.8060 - val_loss: 0.8147 - learning_rate: 0.0010\n",
            "Epoch 10/20\n",
            "\u001b[1m168/168\u001b[0m \u001b[32m━━━━━━━━━━━━━━━━━━━━\u001b[0m\u001b[37m\u001b[0m \u001b[1m129s\u001b[0m 606ms/step - accuracy: 0.6087 - loss: 1.1809 - val_accuracy: 0.8177 - val_loss: 0.6993 - learning_rate: 0.0010\n",
            "Epoch 11/20\n",
            "\u001b[1m168/168\u001b[0m \u001b[32m━━━━━━━━━━━━━━━━━━━━\u001b[0m\u001b[37m\u001b[0m \u001b[1m99s\u001b[0m 573ms/step - accuracy: 0.6460 - loss: 0.9263 - val_accuracy: 0.8113 - val_loss: 0.8555 - learning_rate: 0.0010\n",
            "Epoch 12/20\n",
            "\u001b[1m168/168\u001b[0m \u001b[32m━━━━━━━━━━━━━━━━━━━━\u001b[0m\u001b[37m\u001b[0m \u001b[1m99s\u001b[0m 575ms/step - accuracy: 0.6815 - loss: 0.8383 - val_accuracy: 0.8188 - val_loss: 0.8002 - learning_rate: 0.0010\n",
            "Epoch 13/20\n",
            "\u001b[1m168/168\u001b[0m \u001b[32m━━━━━━━━━━━━━━━━━━━━\u001b[0m\u001b[37m\u001b[0m \u001b[1m99s\u001b[0m 575ms/step - accuracy: 0.6530 - loss: 0.9781 - val_accuracy: 0.5064 - val_loss: 1.9624 - learning_rate: 0.0010\n",
            "Epoch 14/20\n",
            "\u001b[1m168/168\u001b[0m \u001b[32m━━━━━━━━━━━━━━━━━━━━\u001b[0m\u001b[37m\u001b[0m \u001b[1m144s\u001b[0m 581ms/step - accuracy: 0.6533 - loss: 0.9051 - val_accuracy: 0.0832 - val_loss: 36.0339 - learning_rate: 0.0010\n",
            "Epoch 15/20\n",
            "\u001b[1m168/168\u001b[0m \u001b[32m━━━━━━━━━━━━━━━━━━━━\u001b[0m\u001b[37m\u001b[0m \u001b[1m140s\u001b[0m 577ms/step - accuracy: 0.4776 - loss: 1.9239 - val_accuracy: 0.2527 - val_loss: 5.7018 - learning_rate: 0.0010\n",
            "Epoch 16/20\n",
            "\u001b[1m168/168\u001b[0m \u001b[32m━━━━━━━━━━━━━━━━━━━━\u001b[0m\u001b[37m\u001b[0m \u001b[1m144s\u001b[0m 587ms/step - accuracy: 0.5611 - loss: 1.2570 - val_accuracy: 0.7910 - val_loss: 0.6262 - learning_rate: 2.0000e-04\n",
            "Epoch 17/20\n",
            "\u001b[1m168/168\u001b[0m \u001b[32m━━━━━━━━━━━━━━━━━━━━\u001b[0m\u001b[37m\u001b[0m \u001b[1m138s\u001b[0m 565ms/step - accuracy: 0.6463 - loss: 0.9469 - val_accuracy: 0.8220 - val_loss: 0.5814 - learning_rate: 2.0000e-04\n",
            "Epoch 18/20\n",
            "\u001b[1m168/168\u001b[0m \u001b[32m━━━━━━━━━━━━━━━━━━━━\u001b[0m\u001b[37m\u001b[0m \u001b[1m98s\u001b[0m 564ms/step - accuracy: 0.6590 - loss: 0.9147 - val_accuracy: 0.8134 - val_loss: 0.5561 - learning_rate: 2.0000e-04\n",
            "Epoch 19/20\n",
            "\u001b[1m168/168\u001b[0m \u001b[32m━━━━━━━━━━━━━━━━━━━━\u001b[0m\u001b[37m\u001b[0m \u001b[1m97s\u001b[0m 564ms/step - accuracy: 0.6814 - loss: 0.8262 - val_accuracy: 0.8454 - val_loss: 0.5081 - learning_rate: 2.0000e-04\n",
            "Epoch 20/20\n",
            "\u001b[1m168/168\u001b[0m \u001b[32m━━━━━━━━━━━━━━━━━━━━\u001b[0m\u001b[37m\u001b[0m \u001b[1m98s\u001b[0m 563ms/step - accuracy: 0.6899 - loss: 0.8075 - val_accuracy: 0.8380 - val_loss: 0.5621 - learning_rate: 2.0000e-04\n"
          ]
        }
      ]
    },
    {
      "cell_type": "code",
      "source": [
        "model.save('/content/drive/MyDrive/densent_model.h5')"
      ],
      "metadata": {
        "colab": {
          "base_uri": "https://localhost:8080/"
        },
        "id": "BFDnzjKf6mYG",
        "outputId": "ee4f9978-ee88-47ef-ebdd-637344e7d9dd"
      },
      "execution_count": null,
      "outputs": [
        {
          "output_type": "stream",
          "name": "stderr",
          "text": [
            "WARNING:absl:You are saving your model as an HDF5 file via `model.save()` or `keras.saving.save_model(model)`. This file format is considered legacy. We recommend using instead the native Keras format, e.g. `model.save('my_model.keras')` or `keras.saving.save_model(model, 'my_model.keras')`. \n"
          ]
        }
      ]
    },
    {
      "cell_type": "code",
      "source": [
        "# Get the final training accuracy\n",
        "train_accuracy = history.history['accuracy'][-1]\n",
        "\n",
        "# Get the final validation accuracy\n",
        "val_accuracy = history.history['val_accuracy'][-1]\n",
        "\n",
        "# Convert accuracy to percentage\n",
        "train_accuracy_percent = train_accuracy * 100\n",
        "val_accuracy_percent = val_accuracy * 100\n",
        "\n",
        "# Display the accuracy\n",
        "print(f\"Training Accuracy: {train_accuracy_percent:.2f}%\")\n",
        "print(f\"Validation Accuracy: {val_accuracy_percent:.2f}%\")\n"
      ],
      "metadata": {
        "colab": {
          "base_uri": "https://localhost:8080/"
        },
        "id": "ab5uZDS3GXiV",
        "outputId": "a79151aa-2521-442e-f76e-945fe49ae1b6"
      },
      "execution_count": null,
      "outputs": [
        {
          "output_type": "stream",
          "name": "stdout",
          "text": [
            "Training Accuracy: 70.23%\n",
            "Validation Accuracy: 83.80%\n"
          ]
        }
      ]
    },
    {
      "cell_type": "code",
      "source": [
        "from sklearn.metrics import confusion_matrix, classification_report\n",
        "import seaborn as sns\n",
        "import matplotlib.pyplot as plt\n",
        "# Predict classes for test set\n",
        "\n",
        "Y_pred = model.predict(test_set)\n",
        "y_pred = np.argmax(Y_pred, axis=1)\n",
        "\n",
        "# Get true labels\n",
        "y_true = test_set.classes\n",
        "\n",
        "# Calculate confusion matrix\n",
        "conf_matrix = confusion_matrix(y_true, y_pred)\n",
        "\n",
        "# Plot confusion matrix\n",
        "plt.figure(figsize=(10, 8))\n",
        "sns.heatmap(conf_matrix, annot=True, fmt='d', cmap='Blues', xticklabels=class_names, yticklabels=class_names)\n",
        "plt.xlabel('Predicted labels')\n",
        "plt.ylabel('True labels')\n",
        "plt.title('Confusion Matrix')\n",
        "plt.show()\n",
        "\n"
      ],
      "metadata": {
        "colab": {
          "base_uri": "https://localhost:8080/",
          "height": 735
        },
        "id": "IL4eGslzGaDE",
        "outputId": "78a9c6ea-9e9e-4c3f-d796-c7482afd2720"
      },
      "execution_count": null,
      "outputs": [
        {
          "output_type": "stream",
          "name": "stdout",
          "text": [
            "\u001b[1m19/19\u001b[0m \u001b[32m━━━━━━━━━━━━━━━━━━━━\u001b[0m\u001b[37m\u001b[0m \u001b[1m27s\u001b[0m 823ms/step\n"
          ]
        },
        {
          "output_type": "display_data",
          "data": {
            "text/plain": [
              "<Figure size 1000x800 with 2 Axes>"
            ],
            "image/png": "[encoded data removed]"
          },
          "metadata": {}
        }
      ]
    },
    {
      "cell_type": "code",
      "source": [
        "from sklearn.metrics import precision_recall_fscore_support\n",
        "\n",
        "# Calculate precision, recall, and F1-score\n",
        "precision, recall, f1_score, _ = precision_recall_fscore_support(y_true, y_pred, average='weighted')\n",
        "\n",
        "# Print precision, recall, and F1-score\n",
        "print(f'Precision: {precision:.2f}')\n",
        "print(f'Recall: {recall:.2f}')\n",
        "print(f'F1-score: {f1_score:.2f}')\n"
      ],
      "metadata": {
        "colab": {
          "base_uri": "https://localhost:8080/"
        },
        "id": "eZvaIi2SGcXC",
        "outputId": "ce6ed3b8-07f0-4e66-cb2b-e166048f2bca"
      },
      "execution_count": null,
      "outputs": [
        {
          "output_type": "stream",
          "name": "stdout",
          "text": [
            "Precision: 0.66\n",
            "Recall: 0.69\n",
            "F1-score: 0.67\n"
          ]
        }
      ]
    },
    {
      "cell_type": "code",
      "source": [],
      "metadata": {
        "id": "FR-EjCaDP5Ad"
      },
      "execution_count": null,
      "outputs": []
    }
  ]
}